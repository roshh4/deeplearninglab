{
 "cells": [
  {
   "cell_type": "code",
   "execution_count": null,
   "id": "7a7c03fe",
   "metadata": {},
   "outputs": [
    {
     "name": "stdout",
     "output_type": "stream",
     "text": [
      "Training...\n",
      "Epoch 1/2\n",
      "313/313 [==============================] - 35s 90ms/step - loss: 0.6574 - accuracy: 0.5946 - val_loss: 0.5238 - val_accuracy: 0.7454\n",
      "Epoch 2/2\n",
      "239/313 [=====================>........] - ETA: 4s - loss: 0.4570 - accuracy: 0.7869"
     ]
    }
   ],
   "source": [
    "import numpy as np\n",
    "from tensorflow.keras.datasets import imdb\n",
    "from tensorflow.keras.preprocessing.sequence import pad_sequences\n",
    "from tensorflow.keras.models import Sequential\n",
    "from tensorflow.keras.layers import Embedding, SimpleRNN, Dense\n",
    "\n",
    "# Hyperparameters\n",
    "max_words = 5000\n",
    "max_len = 200\n",
    "\n",
    "# Load and prepare data\n",
    "(x_train, y_train), (x_test, y_test) = imdb.load_data(num_words=max_words)\n",
    "X_train = pad_sequences(x_train, maxlen=max_len)\n",
    "X_test = pad_sequences(x_test, maxlen=max_len)\n",
    "\n",
    "# Build model\n",
    "model = Sequential()\n",
    "model.add(Embedding(input_dim=max_words, output_dim=32, input_length=max_len))\n",
    "model.add(SimpleRNN(32))\n",
    "model.add(Dense(1, activation='sigmoid'))\n",
    "\n",
    "# Compile\n",
    "model.compile(optimizer='adam', loss='binary_crossentropy', metrics=['accuracy'])\n",
    "\n",
    "# Train\n",
    "print(\"Training...\")\n",
    "model.fit(X_train, y_train, epochs=2, batch_size=64, validation_split=0.2)\n",
    "\n",
    "# Evaluate\n",
    "loss, acc = model.evaluate(X_test, y_test)\n",
    "print(f\"\\nTest Accuracy: {acc:.4f}\")\n",
    "\n",
    "# Prepare decoding utilities\n",
    "word_index = imdb.get_word_index()\n",
    "reverse_word_index = {v: k for (k, v) in word_index.items()}\n",
    "\n",
    "def decode_review(review_indices):\n",
    "    # imdb reserves indices 0,1,2 for padding and special tokens; dataset words start at index 3\n",
    "    return \" \".join([reverse_word_index.get(i - 3, \"?\") for i in review_indices])\n",
    "\n",
    "# Predict a sample review\n",
    "sample_review = X_test[0]\n",
    "prediction = model.predict(np.expand_dims(sample_review, axis=0))[0, 0]\n",
    "\n",
    "# Print original (raw) review tokens and predicted sentiment\n",
    "print(\"\\nReview text:\", decode_review(x_test[0]))\n",
    "print(\"Predicted Sentiment:\", \"Positive\" if prediction > 0.5 else \"Negative\")\n"
   ]
  },
  {
   "cell_type": "code",
   "execution_count": null,
   "id": "c406a70d",
   "metadata": {},
   "outputs": [],
   "source": []
  }
 ],
 "metadata": {
  "kernelspec": {
   "display_name": "Python 3 (ipykernel)",
   "language": "python",
   "name": "python3"
  },
  "language_info": {
   "codemirror_mode": {
    "name": "ipython",
    "version": 3
   },
   "file_extension": ".py",
   "mimetype": "text/x-python",
   "name": "python",
   "nbconvert_exporter": "python",
   "pygments_lexer": "ipython3",
   "version": "3.7.12"
  }
 },
 "nbformat": 4,
 "nbformat_minor": 5
}
